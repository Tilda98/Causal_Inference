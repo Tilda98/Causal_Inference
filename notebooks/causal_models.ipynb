{
 "cells": [
  {
   "cell_type": "code",
   "execution_count": 1,
   "metadata": {},
   "outputs": [
    {
     "name": "stderr",
     "output_type": "stream",
     "text": [
      "c:\\Users\\hp\\anaconda3\\envs\\causal\\lib\\site-packages\\tqdm\\auto.py:22: TqdmWarning: IProgress not found. Please update jupyter and ipywidgets. See https://ipywidgets.readthedocs.io/en/stable/user_install.html\n",
      "  from .autonotebook import tqdm as notebook_tqdm\n"
     ]
    }
   ],
   "source": [
    "# Importing usefull libraries and removing warning\n",
    "\n",
    "from causalnex.structure.notears import from_pandas\n",
    "import sys\n",
    "import warnings\n",
    "import pandas as pd\n",
    "\n",
    "sys.path.append('..')\n",
    "\n",
    "warnings.filterwarnings('ignore')"
   ]
  },
  {
   "cell_type": "code",
   "execution_count": 2,
   "metadata": {},
   "outputs": [
    {
     "data": {
      "text/html": [
       "<div>\n",
       "<style scoped>\n",
       "    .dataframe tbody tr th:only-of-type {\n",
       "        vertical-align: middle;\n",
       "    }\n",
       "\n",
       "    .dataframe tbody tr th {\n",
       "        vertical-align: top;\n",
       "    }\n",
       "\n",
       "    .dataframe thead th {\n",
       "        text-align: right;\n",
       "    }\n",
       "</style>\n",
       "<table border=\"1\" class=\"dataframe\">\n",
       "  <thead>\n",
       "    <tr style=\"text-align: right;\">\n",
       "      <th></th>\n",
       "      <th>diagnosis</th>\n",
       "      <th>radius_mean</th>\n",
       "      <th>area_worst</th>\n",
       "      <th>radius_worst</th>\n",
       "      <th>perimeter_worst</th>\n",
       "      <th>concave points_worst</th>\n",
       "      <th>concavity_worst</th>\n",
       "      <th>concave points_mean</th>\n",
       "      <th>perimeter_mean</th>\n",
       "      <th>concavity_mean</th>\n",
       "      <th>area_mean</th>\n",
       "    </tr>\n",
       "  </thead>\n",
       "  <tbody>\n",
       "    <tr>\n",
       "      <th>0</th>\n",
       "      <td>1.0</td>\n",
       "      <td>0.521037</td>\n",
       "      <td>0.301037</td>\n",
       "      <td>0.33910</td>\n",
       "      <td>0.328167</td>\n",
       "      <td>0.362807</td>\n",
       "      <td>0.418033</td>\n",
       "      <td>0.245670</td>\n",
       "      <td>0.382648</td>\n",
       "      <td>0.316195</td>\n",
       "      <td>0.360927</td>\n",
       "    </tr>\n",
       "    <tr>\n",
       "      <th>1</th>\n",
       "      <td>1.0</td>\n",
       "      <td>0.643144</td>\n",
       "      <td>0.301037</td>\n",
       "      <td>0.33910</td>\n",
       "      <td>0.328167</td>\n",
       "      <td>0.362807</td>\n",
       "      <td>0.473547</td>\n",
       "      <td>0.928665</td>\n",
       "      <td>0.382648</td>\n",
       "      <td>0.566937</td>\n",
       "      <td>0.360927</td>\n",
       "    </tr>\n",
       "    <tr>\n",
       "      <th>2</th>\n",
       "      <td>1.0</td>\n",
       "      <td>0.601496</td>\n",
       "      <td>0.301037</td>\n",
       "      <td>0.33910</td>\n",
       "      <td>0.328167</td>\n",
       "      <td>0.362807</td>\n",
       "      <td>0.418033</td>\n",
       "      <td>0.245670</td>\n",
       "      <td>0.382648</td>\n",
       "      <td>0.316195</td>\n",
       "      <td>0.360927</td>\n",
       "    </tr>\n",
       "    <tr>\n",
       "      <th>3</th>\n",
       "      <td>1.0</td>\n",
       "      <td>0.210090</td>\n",
       "      <td>0.092140</td>\n",
       "      <td>0.32872</td>\n",
       "      <td>0.357472</td>\n",
       "      <td>0.362807</td>\n",
       "      <td>0.418033</td>\n",
       "      <td>0.245670</td>\n",
       "      <td>0.083305</td>\n",
       "      <td>0.316195</td>\n",
       "      <td>0.360927</td>\n",
       "    </tr>\n",
       "    <tr>\n",
       "      <th>4</th>\n",
       "      <td>1.0</td>\n",
       "      <td>0.629893</td>\n",
       "      <td>0.301037</td>\n",
       "      <td>0.33910</td>\n",
       "      <td>0.328167</td>\n",
       "      <td>0.362807</td>\n",
       "      <td>0.418033</td>\n",
       "      <td>0.245670</td>\n",
       "      <td>0.382648</td>\n",
       "      <td>0.316195</td>\n",
       "      <td>0.360927</td>\n",
       "    </tr>\n",
       "  </tbody>\n",
       "</table>\n",
       "</div>"
      ],
      "text/plain": [
       "   diagnosis  radius_mean  area_worst  radius_worst  perimeter_worst  \\\n",
       "0        1.0     0.521037    0.301037       0.33910         0.328167   \n",
       "1        1.0     0.643144    0.301037       0.33910         0.328167   \n",
       "2        1.0     0.601496    0.301037       0.33910         0.328167   \n",
       "3        1.0     0.210090    0.092140       0.32872         0.357472   \n",
       "4        1.0     0.629893    0.301037       0.33910         0.328167   \n",
       "\n",
       "   concave points_worst  concavity_worst  concave points_mean  perimeter_mean  \\\n",
       "0              0.362807         0.418033             0.245670        0.382648   \n",
       "1              0.362807         0.473547             0.928665        0.382648   \n",
       "2              0.362807         0.418033             0.245670        0.382648   \n",
       "3              0.362807         0.418033             0.245670        0.083305   \n",
       "4              0.362807         0.418033             0.245670        0.382648   \n",
       "\n",
       "   concavity_mean  area_mean  \n",
       "0        0.316195   0.360927  \n",
       "1        0.566937   0.360927  \n",
       "2        0.316195   0.360927  \n",
       "3        0.316195   0.360927  \n",
       "4        0.316195   0.360927  "
      ]
     },
     "execution_count": 2,
     "metadata": {},
     "output_type": "execute_result"
    }
   ],
   "source": [
    "# Loading and reading the data\n",
    "\n",
    "df = pd.read_csv('../data/new_data.csv')\n",
    "df.head()"
   ]
  },
  {
   "cell_type": "code",
   "execution_count": 3,
   "metadata": {},
   "outputs": [],
   "source": [
    "# Splitting data\n",
    "\n",
    "df_train = df.head(int(0.8*len(df)))\n",
    "df_hold = df.tail(int(0.2*len(df)))"
   ]
  },
  {
   "cell_type": "code",
   "execution_count": 4,
   "metadata": {},
   "outputs": [],
   "source": [
    "# Sampling data for causal analysis\n",
    "\n",
    "sample_20 = df_train.sample(int(0.2*len(df_train)), random_state=2)\n",
    "sample_40 = df_train.sample(int(0.4*len(df_train)), random_state=2)\n",
    "sample_60 = df_train.sample(int(0.6*len(df_train)), random_state=2)\n",
    "sample_80 = df_train.sample(int(0.8*len(df_train)), random_state=2)"
   ]
  }
 ],
 "metadata": {
  "kernelspec": {
   "display_name": "Python 3.8.13 ('causal')",
   "language": "python",
   "name": "python3"
  },
  "language_info": {
   "codemirror_mode": {
    "name": "ipython",
    "version": 3
   },
   "file_extension": ".py",
   "mimetype": "text/x-python",
   "name": "python",
   "nbconvert_exporter": "python",
   "pygments_lexer": "ipython3",
   "version": "3.8.13"
  },
  "orig_nbformat": 4,
  "vscode": {
   "interpreter": {
    "hash": "749cbb726ac46740a0107ab720cefbd9b0184c26c48aeb8378c5561f7d343f98"
   }
  }
 },
 "nbformat": 4,
 "nbformat_minor": 2
}
